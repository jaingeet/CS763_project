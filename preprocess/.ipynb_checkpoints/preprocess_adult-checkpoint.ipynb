{
 "cells": [
  {
   "cell_type": "code",
   "execution_count": 1,
   "metadata": {},
   "outputs": [],
   "source": [
    "import numpy as np\n",
    "import pandas as pd\n",
    "from sklearn.model_selection import train_test_split"
   ]
  },
  {
   "cell_type": "code",
   "execution_count": 2,
   "metadata": {},
   "outputs": [],
   "source": [
    "path = '../data/adult/'"
   ]
  },
  {
   "cell_type": "code",
   "execution_count": 3,
   "metadata": {},
   "outputs": [],
   "source": [
    "train_file = path + 'adult.data'\n",
    "test_file = path + 'adult.test'"
   ]
  },
  {
   "cell_type": "code",
   "execution_count": 4,
   "metadata": {},
   "outputs": [],
   "source": [
    "def raw_to_df(fname):\n",
    "  return pd.read_csv(fname, header=None, delimiter = ' *, *', engine='python',\n",
    "                     names=['age', 'workclass', 'fnlwgt', 'education', 'education-num',\n",
    "                            'marital-status', 'occupation', 'relationship', 'race', 'sex',\n",
    "                            'capital-gain', 'capital-loss', 'hours-per-week',\n",
    "                            'native-country', 'income'])\n",
    "\n",
    "df_train_init = raw_to_df(train_file)\n",
    "df_test = raw_to_df(test_file)"
   ]
  },
  {
   "cell_type": "code",
   "execution_count": 5,
   "metadata": {},
   "outputs": [],
   "source": [
    "#separate original train into train and validation\n",
    "df_train, df_valid = train_test_split(df_train_init, test_size=0.2, random_state=1234)"
   ]
  },
  {
   "cell_type": "code",
   "execution_count": 6,
   "metadata": {},
   "outputs": [
    {
     "name": "stdout",
     "output_type": "stream",
     "text": [
      "(26048, 15)\n",
      "(6513, 15)\n",
      "(16281, 15)\n"
     ]
    }
   ],
   "source": [
    "print(df_train.shape)\n",
    "print(df_valid.shape)\n",
    "print(df_test.shape)"
   ]
  },
  {
   "cell_type": "code",
   "execution_count": 7,
   "metadata": {},
   "outputs": [],
   "source": [
    "# df_train[(df_train == '?').any(axis=1)]\n",
    "# df_valid[(df_valid == '?').any(axis=1)]\n",
    "# df_test[(df_test == '?').any(axis=1)]"
   ]
  },
  {
   "cell_type": "code",
   "execution_count": 17,
   "metadata": {},
   "outputs": [],
   "source": [
    "age_buckets = [0, 18, 25, 30, 35, 40, 45, 50, 55, 60, 65, float('+inf')]\n",
    "continuous_cols = ['capital-gain', 'capital-loss', 'education-num', 'hours-per-week']\n",
    "\n",
    "def featurize(df):\n",
    "  df = df.copy()\n",
    "  df_ftu = df.copy()\n",
    "  df_ftu.drop(['age', 'race', 'sex', 'fnlwgt'], axis = 1, inplace=True)\n",
    "  # income to binary classification\n",
    "  df['income'].replace(['<=50K', '<=50K.'], 0, inplace=True)\n",
    "  df['income'].replace(['>50K', '>50K.'], 1, inplace=True)\n",
    "  \n",
    "  # income to binary classification\n",
    "  df_ftu['income'].replace(['<=50K', '<=50K.'], 0, inplace=True)\n",
    "  df_ftu['income'].replace(['>50K', '>50K.'], 1, inplace=True)\n",
    "  \n",
    "\n",
    "  # prune columns\n",
    "  df.drop('fnlwgt', axis=1, inplace=True)\n",
    "  print(df.shape, df_ftu.shape)\n",
    "  # bucket age\n",
    "  df['age'] = pd.cut(df['age'], age_buckets, right=False)\n",
    "  \n",
    "  # one-hot\n",
    "  df = pd.get_dummies(df, sparse=True)\n",
    "  df_ftu = pd.get_dummies(df_ftu, sparse=True)\n",
    "  \n",
    "  # split X, y\n",
    "  X = df.drop('income', axis=1)\n",
    "  y = df['income']\n",
    " \n",
    "  # split X, y\n",
    "  X_ftu = df_ftu.drop('income', axis=1)\n",
    "  y_ftu = df_ftu['income']\n",
    " \n",
    "  # normalize continuous cols in X\n",
    "  for col in continuous_cols:\n",
    "    X[col] = (X[col] - X[col].mean()) / X[col].std()\n",
    "    X_ftu[col] = (X_ftu[col] - X_ftu[col].mean()) / X_ftu[col].std()\n",
    "  return X, y, X_ftu, y_ftu"
   ]
  },
  {
   "cell_type": "code",
   "execution_count": 18,
   "metadata": {},
   "outputs": [],
   "source": [
    "# X_train.head()"
   ]
  },
  {
   "cell_type": "code",
   "execution_count": 19,
   "metadata": {},
   "outputs": [
    {
     "name": "stdout",
     "output_type": "stream",
     "text": [
      "(26048, 14) (26048, 11)\n",
      "(6513, 14) (6513, 11)\n",
      "(16281, 14) (16281, 11)\n"
     ]
    }
   ],
   "source": [
    "X_train, y_train, X_train_ftu, y_train_ftu = featurize(df_train)\n",
    "X_valid, y_valid, X_valid_ftu, y_valid_ftu = featurize(df_valid)\n",
    "X_test, y_test, X_test_ftu, y_test_ftu = featurize(df_test)"
   ]
  },
  {
   "cell_type": "code",
   "execution_count": 20,
   "metadata": {},
   "outputs": [
    {
     "name": "stdout",
     "output_type": "stream",
     "text": [
      "(26048, 117) (26048, 98)\n",
      "(16281, 117) (16281, 98)\n",
      "(6513, 117) (6513, 98)\n"
     ]
    }
   ],
   "source": [
    "# make sure train and test are not missing features\n",
    "def match_cols(a, b):\n",
    "  b_missing = set(a.columns) - set(b.columns)\n",
    "  a_missing = set(b.columns) - set(a.columns)\n",
    "  for col in a_missing:\n",
    "    a[col] = 0\n",
    "  for col in b_missing:\n",
    "    b[col] = 0\n",
    "\n",
    "match_cols(X_train, X_test)\n",
    "match_cols(X_train, X_valid)\n",
    "match_cols(X_test, X_valid)\n",
    "print(X_train.shape, X_train_ftu.shape)\n",
    "print(X_test.shape, X_test_ftu.shape)\n",
    "print(X_valid.shape, X_valid_ftu.shape)\n",
    "\n",
    "X_train_ftu.to_pickle(path + 'X_train_ftu.pkl')\n",
    "X_test_ftu.to_pickle(path + 'X_test_ftu.pkl')\n",
    "X_valid_ftu.to_pickle(path + 'X_valid_ftu.pkl')"
   ]
  },
  {
   "cell_type": "code",
   "execution_count": 18,
   "metadata": {},
   "outputs": [
    {
     "name": "stdout",
     "output_type": "stream",
     "text": [
      "['White' 'Black' 'Other' 'Amer-Indian-Eskimo' 'Asian-Pac-Islander']\n",
      "['Female' 'Male']\n",
      "[ 3  8  1  6  2  4  7  5  9 10  0]\n"
     ]
    }
   ],
   "source": [
    "print(df_train['race'].unique())\n",
    "print(df_train['sex'].unique())\n",
    "age_train = pd.cut(df_train['age'], age_buckets, right=False, labels=range(11)).astype(int)\n",
    "age_valid = pd.cut(df_valid['age'], age_buckets, right=False, labels=range(11)).astype(int)\n",
    "age_test = pd.cut(df_test['age'], age_buckets, right=False, labels=range(11)).astype(int)\n",
    "print(age_train.unique())"
   ]
  },
  {
   "cell_type": "code",
   "execution_count": 19,
   "metadata": {},
   "outputs": [
    {
     "data": {
      "text/plain": [
       "29187    0\n",
       "23535    0\n",
       "14450    0\n",
       "2727     0\n",
       "18474    0\n",
       "Name: race, dtype: int64"
      ]
     },
     "execution_count": 19,
     "metadata": {},
     "output_type": "execute_result"
    }
   ],
   "source": [
    "race_ids = {'White': 0, 'Black': 1, 'Asian-Pac-Islander': 2, 'Amer-Indian-Eskimo': 3, 'Other': 4}\n",
    "sex_ids = {'Male': 0, 'Female': 1}\n",
    "\n",
    "def featurize_protected(df, protected, id_map):\n",
    "  col = df[protected].copy()\n",
    "  col.replace(id_map, inplace=True)\n",
    "  return col\n",
    "\n",
    "race_train = featurize_protected(df_train, 'race', race_ids)\n",
    "race_valid = featurize_protected(df_valid, 'race', race_ids)\n",
    "race_test = featurize_protected(df_test, 'race', race_ids)\n",
    "sex_train = featurize_protected(df_train, 'sex', sex_ids)\n",
    "sex_valid = featurize_protected(df_valid, 'sex', sex_ids)\n",
    "sex_test = featurize_protected(df_test, 'sex', sex_ids)\n",
    "race_train.head()"
   ]
  },
  {
   "cell_type": "code",
   "execution_count": 20,
   "metadata": {},
   "outputs": [],
   "source": [
    "X_train.to_pickle(path + 'X_train.pkl')\n",
    "y_train.to_pickle(path + 'y_train.pkl')\n",
    "\n",
    "X_valid.to_pickle(path + 'X_valid.pkl')\n",
    "y_valid.to_pickle(path + 'y_valid.pkl')\n",
    "\n",
    "X_test.to_pickle(path + 'X_test.pkl')\n",
    "y_test.to_pickle(path + 'y_test.pkl')\n",
    "\n",
    "race_train.to_pickle(path + 'race_train.pkl')\n",
    "race_valid.to_pickle(path + 'race_valid.pkl')\n",
    "race_test.to_pickle(path + 'race_test.pkl')\n",
    "\n",
    "sex_train.to_pickle(path + 'sex_train.pkl')\n",
    "sex_valid.to_pickle(path + 'sex_valid.pkl')\n",
    "sex_test.to_pickle(path + 'sex_test.pkl')\n",
    "\n",
    "age_train.to_pickle(path + 'age_train.pkl')\n",
    "age_valid.to_pickle(path + 'age_valid.pkl')\n",
    "age_test.to_pickle(path + 'age_test.pkl')"
   ]
  },
  {
   "cell_type": "code",
   "execution_count": 21,
   "metadata": {},
   "outputs": [
    {
     "name": "stdout",
     "output_type": "stream",
     "text": [
      "TRAIN prop women:  32.89695945945946\n",
      "TRAIN prop men:  67.10304054054055\n",
      "TEST prop women:  33.29648056016215\n",
      "TEST prop men:  66.70351943983785\n",
      "Total pop women:  33.050627229558934\n",
      "Total pop men:  66.94937277044107\n"
     ]
    }
   ],
   "source": [
    "# NOW COMPUTE STATS ON TRAIN AND TEST -- OUT OF DATE AS NOT COMPUTED ON VALID\n",
    "\n",
    "num_train = sum(1 for i,j in sex_train.iteritems())\n",
    "num_test = sum(1 for i,j in sex_test.iteritems())\n",
    "\n",
    "print (\"TRAIN prop women: \", 100.0*sum(1 for i, j in sex_train.iteritems() if (j == 1))/num_train)\n",
    "print (\"TRAIN prop men: \", 100.0*sum(1 for i, j in sex_train.iteritems() if (j == 0))/num_train)\n",
    "\n",
    "print (\"TEST prop women: \", 100.0*sum(1 for i, j in sex_test.iteritems() if (j == 1))/num_test)\n",
    "print (\"TEST prop men: \", 100.0*sum(1 for i, j in sex_test.iteritems() if (j == 0))/num_test)\n",
    "\n",
    "print (\"Total pop women: \", 100.0*(sum(1 for i, j in sex_train.iteritems() if (j == 1)) + sum(1 for i, j in sex_test.iteritems() if (j == 1)))/(num_train+num_test))\n",
    "print (\"Total pop men: \", 100.0*(sum(1 for i, j in sex_train.iteritems() if (j == 0)) + sum(1 for i, j in sex_test.iteritems() if (j == 0)))/(num_train+num_test))"
   ]
  },
  {
   "cell_type": "code",
   "execution_count": 22,
   "metadata": {},
   "outputs": [
    {
     "name": "stdout",
     "output_type": "stream",
     "text": [
      "Total race pop demographic  0 :  85.51584020411538\n",
      "Total race pop demographic  1 :  9.570270972619245\n",
      "Total race pop demographic  2 :  3.1066172127855607\n",
      "Total race pop demographic  3 :  0.9709655319048407\n",
      "Total race pop demographic  4 :  0.8363060785749722\n"
     ]
    }
   ],
   "source": [
    "num_train = sum(1 for i,j in race_train.iteritems())\n",
    "num_test = sum(1 for i,j in race_test.iteritems())\n",
    "\n",
    "for q in range(5):\n",
    "    print (\"Total race pop demographic \", q, \": \", 100.0*(sum(1 for i, j in race_train.iteritems() if (j == q)) + sum(1 for i, j in race_test.iteritems() if (j == q)))/(num_train+num_test))\n"
   ]
  },
  {
   "cell_type": "code",
   "execution_count": 23,
   "metadata": {},
   "outputs": [
    {
     "name": "stdout",
     "output_type": "stream",
     "text": [
      "Total age pop demographic  0 :  1.245009331663871\n",
      "Total age pop demographic  1 :  16.064636537598336\n",
      "Total age pop demographic  2 :  12.471355335585532\n",
      "Total age pop demographic  3 :  13.279312055564743\n",
      "Total age pop demographic  4 :  13.22970067802216\n",
      "Total age pop demographic  5 :  11.729547118996432\n",
      "Total age pop demographic  6 :  10.123083465236599\n",
      "Total age pop demographic  7 :  7.772449148338019\n",
      "Total age pop demographic  8 :  5.7336577759928185\n",
      "Total age pop demographic  9 :  4.077582744690401\n",
      "Total age pop demographic  10 :  4.273665808311087\n",
      "100.00000000000003\n"
     ]
    }
   ],
   "source": [
    "num_train = sum(1 for i,j in age_train.iteritems())\n",
    "num_test = sum(1 for i,j in age_test.iteritems())\n",
    "s = 0\n",
    "for q in range(11):\n",
    "    s += 100.0*(sum(1 for i, j in age_train.iteritems() if (j == q)) + sum(1 for i, j in age_test.iteritems() if (j == q)))/(num_train+num_test)\n",
    "    print (\"Total age pop demographic \", q, \": \", 100.0*(sum(1 for i, j in age_train.iteritems() if (j == q)) + sum(1 for i, j in age_test.iteritems() if (j == q)))/(num_train+num_test))\n",
    "print(s)"
   ]
  },
  {
   "cell_type": "code",
   "execution_count": null,
   "metadata": {},
   "outputs": [],
   "source": []
  }
 ],
 "metadata": {
  "kernelspec": {
   "display_name": "Python 3",
   "language": "python",
   "name": "python3"
  },
  "language_info": {
   "codemirror_mode": {
    "name": "ipython",
    "version": 3
   },
   "file_extension": ".py",
   "mimetype": "text/x-python",
   "name": "python",
   "nbconvert_exporter": "python",
   "pygments_lexer": "ipython3",
   "version": "3.7.1"
  }
 },
 "nbformat": 4,
 "nbformat_minor": 2
}
